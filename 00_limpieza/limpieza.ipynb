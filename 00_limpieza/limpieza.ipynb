{
 "cells": [
  {
   "cell_type": "code",
   "execution_count": 50,
   "metadata": {},
   "outputs": [],
   "source": [
    "import pandas as pd\n",
    "import re"
   ]
  },
  {
   "cell_type": "code",
   "execution_count": 51,
   "metadata": {},
   "outputs": [],
   "source": [
    "# Carga del archivo\n",
    "df = pd.read_csv('data.csv',sep=\";\", encoding=\"Latin\")"
   ]
  },
  {
   "cell_type": "code",
   "execution_count": 52,
   "metadata": {},
   "outputs": [],
   "source": [
    "#funciones \n",
    "def convertir_a_mayusculas(valor):\n",
    "    if isinstance(valor, str):\n",
    "        return valor.upper()\n",
    "    else:\n",
    "        return valor\n",
    "\n",
    "def limpiar_y_completar(valor):\n",
    "    \"\"\"\n",
    "    Elimina caracteres extraños y completa con ceros a la izquierda hasta 10 caracteres.\n",
    "    :param valor: El valor que se desea procesar (string o número).\n",
    "    :return: El valor limpio y completado como string.\n",
    "    \"\"\"\n",
    "    # Convertir a string\n",
    "    valor = str(valor)\n",
    "    # Eliminar caracteres no numéricos usando expresiones regulares\n",
    "    valor = re.sub(r'[^0-9]', '', valor)\n",
    "    # Completar con ceros a la izquierda hasta 10 caracteres\n",
    "    return valor.zfill(10)\n",
    "\n",
    "# Ejemplo de uso\n",
    "# print(limpiar_y_completar(' 0234-50abc '))  # Salida: '0000023450'\n",
    "# print(limpiar_y_completar('123'))          # Salida: '0000000123'\n",
    "\n",
    "\n",
    "def procesar_telefonos(telefono):\n",
    "    telefono = str(telefono)\n",
    "    # Reemplazar cualquier patrón de números separados por '-' por '\\n'\n",
    "    telefono = re.sub(r'(\\d+)-(\\d+)', r'\\1\\n\\2', telefono)\n",
    "    # Eliminar todos los guiones restantes\n",
    "    telefono = telefono.replace('-', '')\n",
    "    # Reemplazar dobles espacios por un salto de línea\n",
    "    telefono = telefono.replace('  ', '\\n')\n",
    "    # Eliminar los espacios al inicio y al final\n",
    "    telefono = telefono.strip()\n",
    "    return telefono"
   ]
  },
  {
   "cell_type": "code",
   "execution_count": 53,
   "metadata": {},
   "outputs": [],
   "source": [
    "df['DEPARTAMENTO'] = df['DEPARTAMENTO'].apply(convertir_a_mayusculas)\n",
    "df['MUNICIPIO'] = df['MUNICIPIO'].apply(convertir_a_mayusculas)\n",
    "df['MATERIA PRIMA'] = df['MATERIA PRIMA'].apply(convertir_a_mayusculas)\n",
    "df['PRODUCTO'] = df['PRODUCTO'].apply(convertir_a_mayusculas)"
   ]
  },
  {
   "cell_type": "code",
   "execution_count": 54,
   "metadata": {},
   "outputs": [],
   "source": [
    "df1 = df.copy()\n"
   ]
  },
  {
   "cell_type": "code",
   "execution_count": 55,
   "metadata": {},
   "outputs": [],
   "source": [
    "df1['TELEFONO'] = df1['TELEFONO'].apply(procesar_telefonos)\n",
    "df1['CODIGO REGISTRO'] = df1['CODIGO REGISTRO'].apply(limpiar_y_completar)\n"
   ]
  },
  {
   "cell_type": "code",
   "execution_count": 56,
   "metadata": {},
   "outputs": [
    {
     "data": {
      "text/plain": [
       "Index(['CODIGO REGISTRO', 'FECHA REGISTRO', 'FECHA LLENADO',\n",
       "       'NOMBRE DE LA UNIDAD', 'TELEFONO', 'DEPARTAMENTO', 'MUNICIPIO', 'CAEB',\n",
       "       'CIRC', 'MATERIA PRIMA', 'PRODUCTO', 'AGUA', 'ENERGIA ELECTRICA', 'GAS',\n",
       "       'POTENCIA INSTALADA', 'POTENCIA RED', 'POTENCIA PROPIA', 'Unnamed: 17'],\n",
       "      dtype='object')"
      ]
     },
     "execution_count": 56,
     "metadata": {},
     "output_type": "execute_result"
    }
   ],
   "source": [
    "df1.columns\n"
   ]
  },
  {
   "cell_type": "code",
   "execution_count": null,
   "metadata": {},
   "outputs": [],
   "source": []
  },
  {
   "cell_type": "code",
   "execution_count": 73,
   "metadata": {},
   "outputs": [
    {
     "data": {
      "text/html": [
       "<div>\n",
       "<style scoped>\n",
       "    .dataframe tbody tr th:only-of-type {\n",
       "        vertical-align: middle;\n",
       "    }\n",
       "\n",
       "    .dataframe tbody tr th {\n",
       "        vertical-align: top;\n",
       "    }\n",
       "\n",
       "    .dataframe thead th {\n",
       "        text-align: right;\n",
       "    }\n",
       "</style>\n",
       "<table border=\"1\" class=\"dataframe\">\n",
       "  <thead>\n",
       "    <tr style=\"text-align: right;\">\n",
       "      <th></th>\n",
       "      <th>CODIGO REGISTRO</th>\n",
       "      <th>FECHA REGISTRO</th>\n",
       "      <th>NOMBRE DE LA UNIDAD</th>\n",
       "      <th>DEPARTAMENTO</th>\n",
       "      <th>MUNICIPIO</th>\n",
       "      <th>CAEB</th>\n",
       "      <th>CIRC</th>\n",
       "    </tr>\n",
       "  </thead>\n",
       "  <tbody>\n",
       "    <tr>\n",
       "      <th>18</th>\n",
       "      <td>0309010438</td>\n",
       "      <td>2022-12-29</td>\n",
       "      <td>EL VALLE AZUL</td>\n",
       "      <td>COCHABAMBA</td>\n",
       "      <td>QUILLACOLLO</td>\n",
       "      <td>15542\\n15543</td>\n",
       "      <td>4</td>\n",
       "    </tr>\n",
       "    <tr>\n",
       "      <th>64</th>\n",
       "      <td>0309010001</td>\n",
       "      <td>2010-05-26</td>\n",
       "      <td>UTD LTDA.</td>\n",
       "      <td>COCHABAMBA</td>\n",
       "      <td>QUILLACOLLO</td>\n",
       "      <td>20220</td>\n",
       "      <td>4</td>\n",
       "    </tr>\n",
       "    <tr>\n",
       "      <th>98</th>\n",
       "      <td>0309010089</td>\n",
       "      <td>2013-05-23</td>\n",
       "      <td>ASERRADERO FEMA</td>\n",
       "      <td>COCHABAMBA</td>\n",
       "      <td>QUILLACOLLO</td>\n",
       "      <td>20100</td>\n",
       "      <td>3</td>\n",
       "    </tr>\n",
       "    <tr>\n",
       "      <th>144</th>\n",
       "      <td>0309010149</td>\n",
       "      <td>2010-02-10</td>\n",
       "      <td>ELABORACION DE BOLSAS PLASTICAS INMAPLAST SRL</td>\n",
       "      <td>COCHABAMBA</td>\n",
       "      <td>QUILLACOLLO</td>\n",
       "      <td>25209</td>\n",
       "      <td>4</td>\n",
       "    </tr>\n",
       "    <tr>\n",
       "      <th>157</th>\n",
       "      <td>0309010064</td>\n",
       "      <td>2019-01-30</td>\n",
       "      <td>CURTIEMBRE JAZMIN</td>\n",
       "      <td>COCHABAMBA</td>\n",
       "      <td>QUILLACOLLO</td>\n",
       "      <td>19110</td>\n",
       "      <td>TRES (3)</td>\n",
       "    </tr>\n",
       "    <tr>\n",
       "      <th>...</th>\n",
       "      <td>...</td>\n",
       "      <td>...</td>\n",
       "      <td>...</td>\n",
       "      <td>...</td>\n",
       "      <td>...</td>\n",
       "      <td>...</td>\n",
       "      <td>...</td>\n",
       "    </tr>\n",
       "    <tr>\n",
       "      <th>9010</th>\n",
       "      <td>0309010452</td>\n",
       "      <td>2023-05-23</td>\n",
       "      <td>FABRICA DE ATAUDES ARTESANALES</td>\n",
       "      <td>COCHABAMBA</td>\n",
       "      <td>QUILLACOLLO</td>\n",
       "      <td>20290</td>\n",
       "      <td>4</td>\n",
       "    </tr>\n",
       "    <tr>\n",
       "      <th>9027</th>\n",
       "      <td>0309010082</td>\n",
       "      <td>2012-09-17</td>\n",
       "      <td>SALTEÑERIA VICTORIA</td>\n",
       "      <td>COCHABAMBA</td>\n",
       "      <td>QUILLACOLLO</td>\n",
       "      <td>15419</td>\n",
       "      <td>4</td>\n",
       "    </tr>\n",
       "    <tr>\n",
       "      <th>9038</th>\n",
       "      <td>0309010151</td>\n",
       "      <td>2010-02-10</td>\n",
       "      <td>AGUA TUNARI</td>\n",
       "      <td>COCHABAMBA</td>\n",
       "      <td>QUILLACOLLO</td>\n",
       "      <td>15542</td>\n",
       "      <td>4</td>\n",
       "    </tr>\n",
       "    <tr>\n",
       "      <th>9059</th>\n",
       "      <td>0309010326</td>\n",
       "      <td>2018-01-26</td>\n",
       "      <td>IMPORTADORA CAMPERO S.R.L (Chapería)</td>\n",
       "      <td>COCHABAMBA</td>\n",
       "      <td>QUILLACOLLO</td>\n",
       "      <td>28920</td>\n",
       "      <td>4</td>\n",
       "    </tr>\n",
       "    <tr>\n",
       "      <th>9073</th>\n",
       "      <td>0309010095</td>\n",
       "      <td>2013-07-26</td>\n",
       "      <td>FABRICA DE MUEBLES IMPORTADORA ALVAREZ</td>\n",
       "      <td>COCHABAMBA</td>\n",
       "      <td>QUILLACOLLO</td>\n",
       "      <td>36101</td>\n",
       "      <td>4</td>\n",
       "    </tr>\n",
       "  </tbody>\n",
       "</table>\n",
       "<p>315 rows × 7 columns</p>\n",
       "</div>"
      ],
      "text/plain": [
       "     CODIGO REGISTRO FECHA REGISTRO  \\\n",
       "18        0309010438     2022-12-29   \n",
       "64        0309010001     2010-05-26   \n",
       "98        0309010089     2013-05-23   \n",
       "144       0309010149     2010-02-10   \n",
       "157       0309010064     2019-01-30   \n",
       "...              ...            ...   \n",
       "9010      0309010452     2023-05-23   \n",
       "9027      0309010082     2012-09-17   \n",
       "9038      0309010151     2010-02-10   \n",
       "9059      0309010326     2018-01-26   \n",
       "9073      0309010095     2013-07-26   \n",
       "\n",
       "                                NOMBRE DE LA UNIDAD DEPARTAMENTO    MUNICIPIO  \\\n",
       "18                                    EL VALLE AZUL   COCHABAMBA  QUILLACOLLO   \n",
       "64                                        UTD LTDA.   COCHABAMBA  QUILLACOLLO   \n",
       "98                                  ASERRADERO FEMA   COCHABAMBA  QUILLACOLLO   \n",
       "144   ELABORACION DE BOLSAS PLASTICAS INMAPLAST SRL   COCHABAMBA  QUILLACOLLO   \n",
       "157                               CURTIEMBRE JAZMIN   COCHABAMBA  QUILLACOLLO   \n",
       "...                                             ...          ...          ...   \n",
       "9010                 FABRICA DE ATAUDES ARTESANALES   COCHABAMBA  QUILLACOLLO   \n",
       "9027                            SALTEÑERIA VICTORIA   COCHABAMBA  QUILLACOLLO   \n",
       "9038                                    AGUA TUNARI   COCHABAMBA  QUILLACOLLO   \n",
       "9059           IMPORTADORA CAMPERO S.R.L (Chapería)   COCHABAMBA  QUILLACOLLO   \n",
       "9073         FABRICA DE MUEBLES IMPORTADORA ALVAREZ   COCHABAMBA  QUILLACOLLO   \n",
       "\n",
       "              CAEB      CIRC  \n",
       "18    15542\\n15543         4  \n",
       "64           20220         4  \n",
       "98           20100         3  \n",
       "144          25209         4  \n",
       "157          19110  TRES (3)  \n",
       "...            ...       ...  \n",
       "9010         20290         4  \n",
       "9027         15419         4  \n",
       "9038         15542         4  \n",
       "9059         28920         4  \n",
       "9073         36101         4  \n",
       "\n",
       "[315 rows x 7 columns]"
      ]
     },
     "execution_count": 73,
     "metadata": {},
     "output_type": "execute_result"
    }
   ],
   "source": [
    "data = df1[['CODIGO REGISTRO', 'FECHA REGISTRO','NOMBRE DE LA UNIDAD', 'DEPARTAMENTO', 'MUNICIPIO', 'CAEB','CIRC']]\n",
    "data[data['MUNICIPIO']=='QUILLACOLLO']"
   ]
  },
  {
   "cell_type": "code",
   "execution_count": 76,
   "metadata": {},
   "outputs": [],
   "source": [
    "data[data['MUNICIPIO']=='CAPITAL - LA PAZ'].to_excel('CAP_LP.xlsx')"
   ]
  },
  {
   "cell_type": "code",
   "execution_count": 64,
   "metadata": {},
   "outputs": [],
   "source": [
    "mpio = pd.read_csv('municipios.csv',encoding='utf8',dtype='str')"
   ]
  },
  {
   "cell_type": "code",
   "execution_count": 59,
   "metadata": {},
   "outputs": [],
   "source": [
    "mpio_base = mpio['concat']\n",
    "mpio_base = set(mpio_base)"
   ]
  },
  {
   "cell_type": "code",
   "execution_count": 60,
   "metadata": {},
   "outputs": [
    {
     "name": "stderr",
     "output_type": "stream",
     "text": [
      "C:\\Users\\PAOLA-SUYO\\AppData\\Local\\Temp\\ipykernel_11912\\125666556.py:13: SettingWithCopyWarning: \n",
      "A value is trying to be set on a copy of a slice from a DataFrame.\n",
      "Try using .loc[row_indexer,col_indexer] = value instead\n",
      "\n",
      "See the caveats in the documentation: https://pandas.pydata.org/pandas-docs/stable/user_guide/indexing.html#returning-a-view-versus-a-copy\n",
      "  dataframe['validate'] = dataframe[columna_codigo].astype(str).str[:6].apply(lambda x: 1 if x in lista_validacion else 0)\n"
     ]
    }
   ],
   "source": [
    "def validar_codigos(dataframe, lista_validacion, columna_codigo='codigo'):\n",
    "    \"\"\"\n",
    "    Compara los primeros 6 dígitos de la columna 'codigo' con una lista y crea la columna 'validate'.\n",
    "\n",
    "    Args:\n",
    "        dataframe (pd.DataFrame): El DataFrame de pandas.\n",
    "        lista_validacion (list): La lista de códigos de 6 dígitos para comparar.\n",
    "        columna_codigo (str): El nombre de la columna con los códigos de 10 dígitos.\n",
    "\n",
    "    Returns:\n",
    "        pd.DataFrame: El DataFrame con la columna 'validate' añadida.\n",
    "    \"\"\"\n",
    "    dataframe['validate'] = dataframe[columna_codigo].astype(str).str[:6].apply(lambda x: 1 if x in lista_validacion else 0)\n",
    "    return dataframe\n",
    "\n",
    "df_validado = validar_codigos(data, mpio_base,columna_codigo='CODIGO REGISTRO')"
   ]
  },
  {
   "cell_type": "code",
   "execution_count": 65,
   "metadata": {},
   "outputs": [
    {
     "name": "stderr",
     "output_type": "stream",
     "text": [
      "C:\\Users\\PAOLA-SUYO\\AppData\\Local\\Temp\\ipykernel_11912\\769736324.py:1: SettingWithCopyWarning: \n",
      "A value is trying to be set on a copy of a slice from a DataFrame.\n",
      "Try using .loc[row_indexer,col_indexer] = value instead\n",
      "\n",
      "See the caveats in the documentation: https://pandas.pydata.org/pandas-docs/stable/user_guide/indexing.html#returning-a-view-versus-a-copy\n",
      "  data['validate'] = data['CODIGO REGISTRO'].astype(str).str[:6].apply(lambda x: '1' if x in mpio_base else '0')\n"
     ]
    }
   ],
   "source": [
    "data['validate'] = data['CODIGO REGISTRO'].astype(str).str[:6].apply(lambda x: '1' if x in mpio_base else '0')"
   ]
  },
  {
   "cell_type": "code",
   "execution_count": 70,
   "metadata": {},
   "outputs": [],
   "source": [
    "errores = data[data['validate']=='0']\n",
    "errores.to_excel('errores.xlsx')"
   ]
  },
  {
   "cell_type": "code",
   "execution_count": 72,
   "metadata": {},
   "outputs": [
    {
     "data": {
      "text/html": [
       "<div>\n",
       "<style scoped>\n",
       "    .dataframe tbody tr th:only-of-type {\n",
       "        vertical-align: middle;\n",
       "    }\n",
       "\n",
       "    .dataframe tbody tr th {\n",
       "        vertical-align: top;\n",
       "    }\n",
       "\n",
       "    .dataframe thead th {\n",
       "        text-align: right;\n",
       "    }\n",
       "</style>\n",
       "<table border=\"1\" class=\"dataframe\">\n",
       "  <thead>\n",
       "    <tr style=\"text-align: right;\">\n",
       "      <th></th>\n",
       "      <th>CODIGO REGISTRO</th>\n",
       "      <th>FECHA REGISTRO</th>\n",
       "      <th>NOMBRE DE LA UNIDAD</th>\n",
       "      <th>DEPARTAMENTO</th>\n",
       "      <th>MUNICIPIO</th>\n",
       "      <th>CAEB</th>\n",
       "      <th>CIRC</th>\n",
       "      <th>validate</th>\n",
       "    </tr>\n",
       "  </thead>\n",
       "  <tbody>\n",
       "    <tr>\n",
       "      <th>2564</th>\n",
       "      <td>1309010176</td>\n",
       "      <td>2011-03-04</td>\n",
       "      <td>EMBUTIDOS COPACABANA</td>\n",
       "      <td>COCHABAMBA</td>\n",
       "      <td>QUILLACOLLO</td>\n",
       "      <td>15113</td>\n",
       "      <td>4</td>\n",
       "      <td>0</td>\n",
       "    </tr>\n",
       "    <tr>\n",
       "      <th>6194</th>\n",
       "      <td>0390102208</td>\n",
       "      <td>2013-11-08</td>\n",
       "      <td>ELABORACION DR CHICHA DELMIRA MIRANDA</td>\n",
       "      <td>COCHABAMBA</td>\n",
       "      <td>QUILLACOLLO</td>\n",
       "      <td>15521</td>\n",
       "      <td>4</td>\n",
       "      <td>0</td>\n",
       "    </tr>\n",
       "  </tbody>\n",
       "</table>\n",
       "</div>"
      ],
      "text/plain": [
       "     CODIGO REGISTRO FECHA REGISTRO                    NOMBRE DE LA UNIDAD  \\\n",
       "2564      1309010176     2011-03-04                   EMBUTIDOS COPACABANA   \n",
       "6194      0390102208     2013-11-08  ELABORACION DR CHICHA DELMIRA MIRANDA   \n",
       "\n",
       "     DEPARTAMENTO    MUNICIPIO   CAEB CIRC validate  \n",
       "2564   COCHABAMBA  QUILLACOLLO  15113    4        0  \n",
       "6194   COCHABAMBA  QUILLACOLLO  15521    4        0  "
      ]
     },
     "execution_count": 72,
     "metadata": {},
     "output_type": "execute_result"
    }
   ],
   "source": [
    "errores[errores['MUNICIPIO']=='QUILLACOLLO']"
   ]
  }
 ],
 "metadata": {
  "kernelspec": {
   "display_name": "datos",
   "language": "python",
   "name": "python3"
  },
  "language_info": {
   "codemirror_mode": {
    "name": "ipython",
    "version": 3
   },
   "file_extension": ".py",
   "mimetype": "text/x-python",
   "name": "python",
   "nbconvert_exporter": "python",
   "pygments_lexer": "ipython3",
   "version": "3.13.2"
  }
 },
 "nbformat": 4,
 "nbformat_minor": 2
}
